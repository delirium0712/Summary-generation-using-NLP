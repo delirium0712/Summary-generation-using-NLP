{
 "cells": [
  {
   "cell_type": "code",
   "execution_count": 49,
   "metadata": {},
   "outputs": [
    {
     "name": "stdout",
     "output_type": "stream",
     "text": [
      "[nltk_data] Downloading package punkt to /home/ritwik/nltk_data...\n",
      "[nltk_data]   Package punkt is already up-to-date!\n"
     ]
    },
    {
     "data": {
      "text/plain": [
       "True"
      ]
     },
     "execution_count": 49,
     "metadata": {},
     "output_type": "execute_result"
    }
   ],
   "source": [
    "from nltk.tokenize import word_tokenize,sent_tokenize\n",
    "from bs4 import BeautifulSoup\n",
    "import nltk\n",
    "nltk.download('punkt')"
   ]
  },
  {
   "cell_type": "code",
   "execution_count": 50,
   "metadata": {},
   "outputs": [],
   "source": [
    "import urllib.request"
   ]
  },
  {
   "cell_type": "code",
   "execution_count": 51,
   "metadata": {},
   "outputs": [],
   "source": [
    "link = \"https://qz.com/india/1367236/kerala-floods-show-how-climate-change-threatens-india/\""
   ]
  },
  {
   "cell_type": "code",
   "execution_count": 52,
   "metadata": {},
   "outputs": [],
   "source": [
    "req  =  urllib.request.Request(link)\n",
    "response =  urllib.request.urlopen(req)\n",
    "the_page =  response.read()"
   ]
  },
  {
   "cell_type": "code",
   "execution_count": 53,
   "metadata": {},
   "outputs": [],
   "source": [
    "soup = BeautifulSoup(the_page,'lxml')"
   ]
  },
  {
   "cell_type": "code",
   "execution_count": 54,
   "metadata": {},
   "outputs": [
    {
     "name": "stdout",
     "output_type": "stream",
     "text": [
      "The Indian state of Kerala has been devastated by severe floods. More than 350 people have died, while more than a million have been evacuated to over 4,000 relief camps. Tens of thousands remain stranded. The crisis is a timely reminder that climate change is expected to increase the frequency and magnitude of severe flooding across the world. Although no single flood can be linked directly to climate change, basic physics attests to the fact that a warmer world and atmosphere will hold more water, which will result in more intense and extreme rainfall. The monsoon season usually brings heavy rains but this year Kerala has seen 42% more rain than would be expected, with more than 2,300mm of rain across the region since the beginning of June, and over 700mm in August alone. These are similar levels seen during Hurricane Harvey, that hit Houston in August 2017, when more than 1,500mm of rain fell during one storm. Tropical cyclones and hurricanes, such as Harvey, are expected to increase in strength by up to 10% with a 2℃ rise in global temperature. Under climate change the probability of such extreme rainfall is also predicted to grow by up to sixfold towards the end of the century. The rivers and drainage systems of Kerala have been unable to cope with such large volumes of water and this has resulted in flash flooding. Much of that water would normally be slowed down by trees or other natural obstacles. Yet over the past 40 years Kerala has lost nearly half its forest cover, an area of 9,000 km², just under the size of Greater London, while the state’s urban areas keep growing. This means that less rainfall is being intercepted, and more water is rapidly running into overflowing streams and rivers. One of the most striking things from the videos and images emerging from the area is the brown colour of the flood waters and the extreme damage caused by landslides. Our recent research has shown that geomorphology—the processes of erosion and deposition that shape the Earth’s surface—is sensitive to rainfall intensity, so more frequent and more extreme floods mean more rapid changes across our landscapes. The floods have been described as “the worst in 100 years” by Kerala state’s chief minister. Similar descriptions are often used to try and define the magnitudes of a flood, such as a “one-in-100 year flood event,” despite it being widely recognised that such descriptions are ineffective for communicating flood risk. Our ways of thinking about probability and the risk of flooding, as well as measuring its magnitude, are in desperate need of updating. The 100-year flood, the flood that has a 1% chance of occurring in any given year, does not register in public consciousness. A different way of thinking about it is that a 100-year flood at a given location has close to a one in four chance of occurring within the term of a 25-year mortgage. A 25% chance your house will flood before you’ve finished paying for it is far more relatable and more likely to get people to consider and engage with their own individual risk. Likewise, governments, both regional and national, along with agencies and first responders, need to develop improved flood maps and update them to incorporate uncertainty. Alongside this, we need more effective communication and public engagement to develop flood risk literacy—long term this will help improve policy decisions. The UK’s 25-year environment plan is a step in that direction. Most critically we have to accept that, with the changing climate and changing patterns of rainfall, the behaviour of rivers will also shift. All our assessments of flood risk currently assume a static, steady-state system where rivers respond in the same way they have in the past. An increase in rainfall, and in particularly extreme events, will cause our landscapes to adjust. Rivers and their basins will become more dynamic and prone to change. How quickly rivers change, and how quickly we respond with urban drainage and flood mitigation measures, will play a significant role in our evolving flood risk. Layered on this will be how rapidly societies, and their governments, begin to adopt more resilient ways of living with water. Flooding is a challenge across individual, local, regional, and global scales, and is set to increase in the future and its impacts will become more damaging. We need solutions across each of these scales to improve individual and societal resilience—so when flooding does occur it isn’t the disaster we are currently witnessing unfold in Kerala. Daniel Parsons, professor of process sedimentology and associate dean for research (science and engineering), University of Hull, and Christopher Skinner, postdoctoral research assistant in numerical modelling of fluvial Geomorphology, University of Hull. This article was originally published on The Conversation. Read the original article. We welcome your comments at ideas.india@qz.com. \n"
     ]
    }
   ],
   "source": [
    "paras = ' '.join([p.text for p in soup.findAll('p')])\n",
    "print(paras)"
   ]
  },
  {
   "cell_type": "code",
   "execution_count": 55,
   "metadata": {},
   "outputs": [],
   "source": [
    "text = (paras[:-390])"
   ]
  },
  {
   "cell_type": "code",
   "execution_count": 56,
   "metadata": {},
   "outputs": [
    {
     "name": "stdout",
     "output_type": "stream",
     "text": [
      "The Indian state of Kerala has been devastated by severe floods. More than 350 people have died, while more than a million have been evacuated to over 4,000 relief camps. Tens of thousands remain stranded. The crisis is a timely reminder that climate change is expected to increase the frequency and magnitude of severe flooding across the world. Although no single flood can be linked directly to climate change, basic physics attests to the fact that a warmer world and atmosphere will hold more water, which will result in more intense and extreme rainfall. The monsoon season usually brings heavy rains but this year Kerala has seen 42% more rain than would be expected, with more than 2,300mm of rain across the region since the beginning of June, and over 700mm in August alone. These are similar levels seen during Hurricane Harvey, that hit Houston in August 2017, when more than 1,500mm of rain fell during one storm. Tropical cyclones and hurricanes, such as Harvey, are expected to increase in strength by up to 10% with a 2℃ rise in global temperature. Under climate change the probability of such extreme rainfall is also predicted to grow by up to sixfold towards the end of the century. The rivers and drainage systems of Kerala have been unable to cope with such large volumes of water and this has resulted in flash flooding. Much of that water would normally be slowed down by trees or other natural obstacles. Yet over the past 40 years Kerala has lost nearly half its forest cover, an area of 9,000 km², just under the size of Greater London, while the state’s urban areas keep growing. This means that less rainfall is being intercepted, and more water is rapidly running into overflowing streams and rivers. One of the most striking things from the videos and images emerging from the area is the brown colour of the flood waters and the extreme damage caused by landslides. Our recent research has shown that geomorphology—the processes of erosion and deposition that shape the Earth’s surface—is sensitive to rainfall intensity, so more frequent and more extreme floods mean more rapid changes across our landscapes. The floods have been described as “the worst in 100 years” by Kerala state’s chief minister. Similar descriptions are often used to try and define the magnitudes of a flood, such as a “one-in-100 year flood event,” despite it being widely recognised that such descriptions are ineffective for communicating flood risk. Our ways of thinking about probability and the risk of flooding, as well as measuring its magnitude, are in desperate need of updating. The 100-year flood, the flood that has a 1% chance of occurring in any given year, does not register in public consciousness. A different way of thinking about it is that a 100-year flood at a given location has close to a one in four chance of occurring within the term of a 25-year mortgage. A 25% chance your house will flood before you’ve finished paying for it is far more relatable and more likely to get people to consider and engage with their own individual risk. Likewise, governments, both regional and national, along with agencies and first responders, need to develop improved flood maps and update them to incorporate uncertainty. Alongside this, we need more effective communication and public engagement to develop flood risk literacy—long term this will help improve policy decisions. The UK’s 25-year environment plan is a step in that direction. Most critically we have to accept that, with the changing climate and changing patterns of rainfall, the behaviour of rivers will also shift. All our assessments of flood risk currently assume a static, steady-state system where rivers respond in the same way they have in the past. An increase in rainfall, and in particularly extreme events, will cause our landscapes to adjust. Rivers and their basins will become more dynamic and prone to change. How quickly rivers change, and how quickly we respond with urban drainage and flood mitigation measures, will play a significant role in our evolving flood risk. Layered on this will be how rapidly societies, and their governments, begin to adopt more resilient ways of living with water. Flooding is a challenge across individual, local, regional, and global scales, and is set to increase in the future and its impacts will become more damaging. We need solutions across each of these scales to improve individual and societal resilience—so when flooding does occur it isn’t the disaster we are currently witnessing unfold in Kerala. \n"
     ]
    }
   ],
   "source": [
    "print(text)"
   ]
  },
  {
   "cell_type": "code",
   "execution_count": 57,
   "metadata": {},
   "outputs": [],
   "source": [
    "sentences =sent_tokenize(text)"
   ]
  },
  {
   "cell_type": "code",
   "execution_count": 58,
   "metadata": {},
   "outputs": [],
   "source": [
    "words = word_tokenize(text.lower())"
   ]
  },
  {
   "cell_type": "code",
   "execution_count": 61,
   "metadata": {},
   "outputs": [],
   "source": [
    "from nltk.corpus import stopwords\n",
    "from string import punctuation\n",
    "custom = set(stopwords.words ('english') + list(punctuation) + ['’'])"
   ]
  },
  {
   "cell_type": "code",
   "execution_count": 62,
   "metadata": {},
   "outputs": [],
   "source": [
    "words =  [w for w in words if w not in custom]"
   ]
  },
  {
   "cell_type": "code",
   "execution_count": 63,
   "metadata": {},
   "outputs": [
    {
     "data": {
      "text/plain": [
       "414"
      ]
     },
     "execution_count": 63,
     "metadata": {},
     "output_type": "execute_result"
    }
   ],
   "source": [
    "len(words)"
   ]
  },
  {
   "cell_type": "code",
   "execution_count": 64,
   "metadata": {},
   "outputs": [],
   "source": [
    "from collections import Counter"
   ]
  },
  {
   "cell_type": "code",
   "execution_count": 65,
   "metadata": {},
   "outputs": [],
   "source": [
    "dictionary =  Counter(words)"
   ]
  },
  {
   "cell_type": "code",
   "execution_count": 69,
   "metadata": {},
   "outputs": [],
   "source": [
    "counts = dictionary.most_common()"
   ]
  },
  {
   "cell_type": "code",
   "execution_count": 70,
   "metadata": {},
   "outputs": [],
   "source": [
    "final_words_we_need = [x for x in counts if x[1] > 3]"
   ]
  },
  {
   "cell_type": "code",
   "execution_count": 71,
   "metadata": {},
   "outputs": [
    {
     "data": {
      "text/plain": [
       "[('flood', 14),\n",
       " ('kerala', 6),\n",
       " ('rainfall', 6),\n",
       " ('rivers', 6),\n",
       " ('risk', 6),\n",
       " ('change', 5),\n",
       " ('flooding', 5),\n",
       " ('across', 5),\n",
       " ('water', 5),\n",
       " ('extreme', 5),\n",
       " ('climate', 4),\n",
       " ('increase', 4),\n",
       " ('need', 4)]"
      ]
     },
     "execution_count": 71,
     "metadata": {},
     "output_type": "execute_result"
    }
   ],
   "source": [
    "final_words_we_need"
   ]
  },
  {
   "cell_type": "code",
   "execution_count": 73,
   "metadata": {},
   "outputs": [],
   "source": [
    "sents =  sentences\n",
    "d = { }\n",
    "for s in sents:\n",
    "    score = 0\n",
    "    for w in final_words_we_need:\n",
    "        if w[0] in s:\n",
    "            score =  score + w[1]\n",
    "    d[s] =  score \n",
    "import operator\n",
    "sorted_d =  sorted(d.items(),key = operator.itemgetter(1),reverse = True)\n",
    "    "
   ]
  },
  {
   "cell_type": "code",
   "execution_count": 75,
   "metadata": {},
   "outputs": [
    {
     "name": "stdout",
     "output_type": "stream",
     "text": [
      "Although no single flood can be linked directly to climate change, basic physics attests to the fact that a warmer world and atmosphere will hold more water, which will result in more intense and extreme rainfall.The crisis is a timely reminder that climate change is expected to increase the frequency and magnitude of severe flooding across the world.Our recent research has shown that geomorphology—the processes of erosion and deposition that shape the Earth’s surface—is sensitive to rainfall intensity, so more frequent and more extreme floods mean more rapid changes across our landscapes.How quickly rivers change, and how quickly we respond with urban drainage and flood mitigation measures, will play a significant role in our evolving flood risk.The rivers and drainage systems of Kerala have been unable to cope with such large volumes of water and this has resulted in flash flooding.Our ways of thinking about probability and the risk of flooding, as well as measuring its magnitude, are in desperate need of updating.\n"
     ]
    }
   ],
   "source": [
    "our_summary =[]\n",
    "for x in sorted_d[:6]:\n",
    "    our_summary.append(x[0])\n",
    "our_summary = ''.join(our_summary[:])\n",
    "print(our_summary)"
   ]
  },
  {
   "cell_type": "code",
   "execution_count": null,
   "metadata": {},
   "outputs": [],
   "source": []
  },
  {
   "cell_type": "code",
   "execution_count": null,
   "metadata": {},
   "outputs": [],
   "source": []
  },
  {
   "cell_type": "code",
   "execution_count": null,
   "metadata": {},
   "outputs": [],
   "source": []
  },
  {
   "cell_type": "code",
   "execution_count": null,
   "metadata": {},
   "outputs": [],
   "source": []
  },
  {
   "cell_type": "code",
   "execution_count": null,
   "metadata": {},
   "outputs": [],
   "source": []
  }
 ],
 "metadata": {
  "kernelspec": {
   "display_name": "Python 3",
   "language": "python",
   "name": "python3"
  },
  "language_info": {
   "codemirror_mode": {
    "name": "ipython",
    "version": 3
   },
   "file_extension": ".py",
   "mimetype": "text/x-python",
   "name": "python",
   "nbconvert_exporter": "python",
   "pygments_lexer": "ipython3",
   "version": "3.6.5"
  }
 },
 "nbformat": 4,
 "nbformat_minor": 2
}
